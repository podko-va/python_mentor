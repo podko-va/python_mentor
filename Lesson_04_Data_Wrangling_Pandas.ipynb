{
  "cells": [
    {
      "cell_type": "markdown",
      "metadata": {},
      "source": [
        "# 📊 Урок 04 — Обработка и агрегация данных в Pandas\n",
        "\n",
        "**Цель:** Научиться эффективно выбирать, агрегировать и объединять данные в Pandas.\n",
        "\n",
        "**Темы:**\n",
        "- Выбор данных (индексация, фильтрация)\n",
        "- Агрегация (groupby, sum, mean, count)\n",
        "- Объединение таблиц (merge, join)\n",
        "- Трансформация (apply, map, fillna)\n",
        "- Утилиты (isnull, sort_values, reset_index)\n"
      ]
    },
    {
      "cell_type": "code",
      "execution_count": 9,
      "metadata": {},
      "outputs": [],
      "source": [
        "# Импортируем библиотеки\n",
        "import pandas as pd\n",
        "import numpy as np"
      ]
    },
    {
      "cell_type": "markdown",
      "metadata": {},
      "source": [
        "## 1️⃣ Загрузка и просмотр данных"
      ]
    },
    {
      "cell_type": "code",
      "execution_count": 11,
      "metadata": {},
      "outputs": [
        {
          "data": {
            "application/vnd.microsoft.datawrangler.viewer.v0+json": {
              "columns": [
                {
                  "name": "index",
                  "rawType": "int64",
                  "type": "integer"
                },
                {
                  "name": "Name",
                  "rawType": "object",
                  "type": "string"
                },
                {
                  "name": "Department",
                  "rawType": "object",
                  "type": "string"
                },
                {
                  "name": "Salary",
                  "rawType": "int64",
                  "type": "integer"
                },
                {
                  "name": "Age",
                  "rawType": "int64",
                  "type": "integer"
                }
              ],
              "conversionMethod": "pd.DataFrame",
              "ref": "4029975f-0d0a-4e4d-862b-349b7802f494",
              "rows": [
                [
                  "0",
                  "Alice",
                  "HR",
                  "50000",
                  "25"
                ],
                [
                  "1",
                  "Bob",
                  "IT",
                  "60000",
                  "30"
                ],
                [
                  "2",
                  "Charlie",
                  "IT",
                  "65000",
                  "35"
                ],
                [
                  "3",
                  "David",
                  "HR",
                  "52000",
                  "45"
                ],
                [
                  "4",
                  "Eva",
                  "Marketing",
                  "58000",
                  "28"
                ]
              ],
              "shape": {
                "columns": 4,
                "rows": 5
              }
            },
            "text/html": [
              "<div>\n",
              "<style scoped>\n",
              "    .dataframe tbody tr th:only-of-type {\n",
              "        vertical-align: middle;\n",
              "    }\n",
              "\n",
              "    .dataframe tbody tr th {\n",
              "        vertical-align: top;\n",
              "    }\n",
              "\n",
              "    .dataframe thead th {\n",
              "        text-align: right;\n",
              "    }\n",
              "</style>\n",
              "<table border=\"1\" class=\"dataframe\">\n",
              "  <thead>\n",
              "    <tr style=\"text-align: right;\">\n",
              "      <th></th>\n",
              "      <th>Name</th>\n",
              "      <th>Department</th>\n",
              "      <th>Salary</th>\n",
              "      <th>Age</th>\n",
              "    </tr>\n",
              "  </thead>\n",
              "  <tbody>\n",
              "    <tr>\n",
              "      <th>0</th>\n",
              "      <td>Alice</td>\n",
              "      <td>HR</td>\n",
              "      <td>50000</td>\n",
              "      <td>25</td>\n",
              "    </tr>\n",
              "    <tr>\n",
              "      <th>1</th>\n",
              "      <td>Bob</td>\n",
              "      <td>IT</td>\n",
              "      <td>60000</td>\n",
              "      <td>30</td>\n",
              "    </tr>\n",
              "    <tr>\n",
              "      <th>2</th>\n",
              "      <td>Charlie</td>\n",
              "      <td>IT</td>\n",
              "      <td>65000</td>\n",
              "      <td>35</td>\n",
              "    </tr>\n",
              "    <tr>\n",
              "      <th>3</th>\n",
              "      <td>David</td>\n",
              "      <td>HR</td>\n",
              "      <td>52000</td>\n",
              "      <td>45</td>\n",
              "    </tr>\n",
              "    <tr>\n",
              "      <th>4</th>\n",
              "      <td>Eva</td>\n",
              "      <td>Marketing</td>\n",
              "      <td>58000</td>\n",
              "      <td>28</td>\n",
              "    </tr>\n",
              "  </tbody>\n",
              "</table>\n",
              "</div>"
            ],
            "text/plain": [
              "      Name Department  Salary  Age\n",
              "0    Alice         HR   50000   25\n",
              "1      Bob         IT   60000   30\n",
              "2  Charlie         IT   65000   35\n",
              "3    David         HR   52000   45\n",
              "4      Eva  Marketing   58000   28"
            ]
          },
          "execution_count": 11,
          "metadata": {},
          "output_type": "execute_result"
        }
      ],
      "source": [
        "# Пример датафрейма\n",
        "data = {\n",
        "    'Name': ['Alice', 'Bob', 'Charlie', 'David', 'Eva'],\n",
        "    'Department': ['HR', 'IT', 'IT', 'HR', 'Marketing'],\n",
        "    'Salary': [50000, 60000, 65000, 52000, 58000],\n",
        "    'Age': [25, 30, 35, 45, 28]\n",
        "}\n",
        "df = pd.DataFrame(data)\n",
        "df"
      ]
    },
    {
      "cell_type": "markdown",
      "metadata": {},
      "source": [
        "## 2️⃣ Выбор и фильтрация данных"
      ]
    },
    {
      "cell_type": "code",
      "execution_count": 12,
      "metadata": {},
      "outputs": [
        {
          "data": {
            "application/vnd.microsoft.datawrangler.viewer.v0+json": {
              "columns": [
                {
                  "name": "index",
                  "rawType": "int64",
                  "type": "integer"
                },
                {
                  "name": "Name",
                  "rawType": "object",
                  "type": "string"
                },
                {
                  "name": "Department",
                  "rawType": "object",
                  "type": "string"
                },
                {
                  "name": "Salary",
                  "rawType": "int64",
                  "type": "integer"
                },
                {
                  "name": "Age",
                  "rawType": "int64",
                  "type": "integer"
                }
              ],
              "conversionMethod": "pd.DataFrame",
              "ref": "c4cf3808-3612-4e67-8e3c-c754c542884f",
              "rows": [
                [
                  "1",
                  "Bob",
                  "IT",
                  "60000",
                  "30"
                ],
                [
                  "2",
                  "Charlie",
                  "IT",
                  "65000",
                  "35"
                ]
              ],
              "shape": {
                "columns": 4,
                "rows": 2
              }
            },
            "text/html": [
              "<div>\n",
              "<style scoped>\n",
              "    .dataframe tbody tr th:only-of-type {\n",
              "        vertical-align: middle;\n",
              "    }\n",
              "\n",
              "    .dataframe tbody tr th {\n",
              "        vertical-align: top;\n",
              "    }\n",
              "\n",
              "    .dataframe thead th {\n",
              "        text-align: right;\n",
              "    }\n",
              "</style>\n",
              "<table border=\"1\" class=\"dataframe\">\n",
              "  <thead>\n",
              "    <tr style=\"text-align: right;\">\n",
              "      <th></th>\n",
              "      <th>Name</th>\n",
              "      <th>Department</th>\n",
              "      <th>Salary</th>\n",
              "      <th>Age</th>\n",
              "    </tr>\n",
              "  </thead>\n",
              "  <tbody>\n",
              "    <tr>\n",
              "      <th>1</th>\n",
              "      <td>Bob</td>\n",
              "      <td>IT</td>\n",
              "      <td>60000</td>\n",
              "      <td>30</td>\n",
              "    </tr>\n",
              "    <tr>\n",
              "      <th>2</th>\n",
              "      <td>Charlie</td>\n",
              "      <td>IT</td>\n",
              "      <td>65000</td>\n",
              "      <td>35</td>\n",
              "    </tr>\n",
              "  </tbody>\n",
              "</table>\n",
              "</div>"
            ],
            "text/plain": [
              "      Name Department  Salary  Age\n",
              "1      Bob         IT   60000   30\n",
              "2  Charlie         IT   65000   35"
            ]
          },
          "execution_count": 12,
          "metadata": {},
          "output_type": "execute_result"
        }
      ],
      "source": [
        "# Все сотрудники из IT\n",
        "df[df['Department'] == 'IT']"
      ]
    },
    {
      "cell_type": "markdown",
      "metadata": {},
      "source": [
        "## 3️⃣ Агрегация — groupby()"
      ]
    },
    {
      "cell_type": "code",
      "execution_count": 13,
      "metadata": {},
      "outputs": [
        {
          "data": {
            "text/plain": [
              "Department\n",
              "HR           51000.0\n",
              "IT           62500.0\n",
              "Marketing    58000.0\n",
              "Name: Salary, dtype: float64"
            ]
          },
          "execution_count": 13,
          "metadata": {},
          "output_type": "execute_result"
        }
      ],
      "source": [
        "# Средняя зарплата по отделам\n",
        "df.groupby('Department')['Salary'].mean()"
      ]
    },
    {
      "cell_type": "markdown",
      "metadata": {},
      "source": [
        "## 4️⃣ Объединение таблиц (merge)"
      ]
    },
    {
      "cell_type": "code",
      "execution_count": 5,
      "metadata": {},
      "outputs": [
        {
          "data": {
            "application/vnd.microsoft.datawrangler.viewer.v0+json": {
              "columns": [
                {
                  "name": "index",
                  "rawType": "int64",
                  "type": "integer"
                },
                {
                  "name": "Name",
                  "rawType": "object",
                  "type": "string"
                },
                {
                  "name": "Department",
                  "rawType": "object",
                  "type": "string"
                },
                {
                  "name": "Salary",
                  "rawType": "int64",
                  "type": "integer"
                },
                {
                  "name": "Age",
                  "rawType": "int64",
                  "type": "integer"
                },
                {
                  "name": "Bonus",
                  "rawType": "float64",
                  "type": "float"
                }
              ],
              "conversionMethod": "pd.DataFrame",
              "ref": "6387e0fd-e41d-4ebb-98d1-86da9829ba4b",
              "rows": [
                [
                  "0",
                  "Alice",
                  "HR",
                  "50000",
                  "25",
                  "5000.0"
                ],
                [
                  "1",
                  "Bob",
                  "IT",
                  "60000",
                  "30",
                  null
                ],
                [
                  "2",
                  "Charlie",
                  "IT",
                  "65000",
                  "35",
                  "3000.0"
                ],
                [
                  "3",
                  "David",
                  "HR",
                  "52000",
                  "45",
                  null
                ],
                [
                  "4",
                  "Eva",
                  "Marketing",
                  "58000",
                  "28",
                  "4000.0"
                ]
              ],
              "shape": {
                "columns": 5,
                "rows": 5
              }
            },
            "text/html": [
              "<div>\n",
              "<style scoped>\n",
              "    .dataframe tbody tr th:only-of-type {\n",
              "        vertical-align: middle;\n",
              "    }\n",
              "\n",
              "    .dataframe tbody tr th {\n",
              "        vertical-align: top;\n",
              "    }\n",
              "\n",
              "    .dataframe thead th {\n",
              "        text-align: right;\n",
              "    }\n",
              "</style>\n",
              "<table border=\"1\" class=\"dataframe\">\n",
              "  <thead>\n",
              "    <tr style=\"text-align: right;\">\n",
              "      <th></th>\n",
              "      <th>Name</th>\n",
              "      <th>Department</th>\n",
              "      <th>Salary</th>\n",
              "      <th>Age</th>\n",
              "      <th>Bonus</th>\n",
              "    </tr>\n",
              "  </thead>\n",
              "  <tbody>\n",
              "    <tr>\n",
              "      <th>0</th>\n",
              "      <td>Alice</td>\n",
              "      <td>HR</td>\n",
              "      <td>50000</td>\n",
              "      <td>25</td>\n",
              "      <td>5000.0</td>\n",
              "    </tr>\n",
              "    <tr>\n",
              "      <th>1</th>\n",
              "      <td>Bob</td>\n",
              "      <td>IT</td>\n",
              "      <td>60000</td>\n",
              "      <td>30</td>\n",
              "      <td>NaN</td>\n",
              "    </tr>\n",
              "    <tr>\n",
              "      <th>2</th>\n",
              "      <td>Charlie</td>\n",
              "      <td>IT</td>\n",
              "      <td>65000</td>\n",
              "      <td>35</td>\n",
              "      <td>3000.0</td>\n",
              "    </tr>\n",
              "    <tr>\n",
              "      <th>3</th>\n",
              "      <td>David</td>\n",
              "      <td>HR</td>\n",
              "      <td>52000</td>\n",
              "      <td>45</td>\n",
              "      <td>NaN</td>\n",
              "    </tr>\n",
              "    <tr>\n",
              "      <th>4</th>\n",
              "      <td>Eva</td>\n",
              "      <td>Marketing</td>\n",
              "      <td>58000</td>\n",
              "      <td>28</td>\n",
              "      <td>4000.0</td>\n",
              "    </tr>\n",
              "  </tbody>\n",
              "</table>\n",
              "</div>"
            ],
            "text/plain": [
              "      Name Department  Salary  Age   Bonus\n",
              "0    Alice         HR   50000   25  5000.0\n",
              "1      Bob         IT   60000   30     NaN\n",
              "2  Charlie         IT   65000   35  3000.0\n",
              "3    David         HR   52000   45     NaN\n",
              "4      Eva  Marketing   58000   28  4000.0"
            ]
          },
          "execution_count": 5,
          "metadata": {},
          "output_type": "execute_result"
        }
      ],
      "source": [
        "extra = pd.DataFrame({\n",
        "    'Name': ['Alice', 'Charlie', 'Eva'],\n",
        "    'Bonus': [5000, 3000, 4000]\n",
        "})\n",
        "merged_df = pd.merge(df, extra, on='Name', how='left')\n",
        "merged_df"
      ]
    },
    {
      "cell_type": "markdown",
      "metadata": {},
      "source": [
        "## 5️⃣ Трансформация данных"
      ]
    },
    {
      "cell_type": "code",
      "execution_count": 14,
      "metadata": {},
      "outputs": [
        {
          "data": {
            "application/vnd.microsoft.datawrangler.viewer.v0+json": {
              "columns": [
                {
                  "name": "index",
                  "rawType": "int64",
                  "type": "integer"
                },
                {
                  "name": "Name",
                  "rawType": "object",
                  "type": "string"
                },
                {
                  "name": "Department",
                  "rawType": "object",
                  "type": "string"
                },
                {
                  "name": "Salary",
                  "rawType": "int64",
                  "type": "integer"
                },
                {
                  "name": "Age",
                  "rawType": "int64",
                  "type": "integer"
                },
                {
                  "name": "AgeGroup",
                  "rawType": "object",
                  "type": "string"
                }
              ],
              "conversionMethod": "pd.DataFrame",
              "ref": "bddb5a68-7c77-4c49-9c70-8b39f3cc3b2b",
              "rows": [
                [
                  "0",
                  "Alice",
                  "HR",
                  "50000",
                  "25",
                  "Young"
                ],
                [
                  "1",
                  "Bob",
                  "IT",
                  "60000",
                  "30",
                  "Senior"
                ],
                [
                  "2",
                  "Charlie",
                  "IT",
                  "65000",
                  "35",
                  "Senior"
                ],
                [
                  "3",
                  "David",
                  "HR",
                  "52000",
                  "45",
                  "Senior"
                ],
                [
                  "4",
                  "Eva",
                  "Marketing",
                  "58000",
                  "28",
                  "Young"
                ]
              ],
              "shape": {
                "columns": 5,
                "rows": 5
              }
            },
            "text/html": [
              "<div>\n",
              "<style scoped>\n",
              "    .dataframe tbody tr th:only-of-type {\n",
              "        vertical-align: middle;\n",
              "    }\n",
              "\n",
              "    .dataframe tbody tr th {\n",
              "        vertical-align: top;\n",
              "    }\n",
              "\n",
              "    .dataframe thead th {\n",
              "        text-align: right;\n",
              "    }\n",
              "</style>\n",
              "<table border=\"1\" class=\"dataframe\">\n",
              "  <thead>\n",
              "    <tr style=\"text-align: right;\">\n",
              "      <th></th>\n",
              "      <th>Name</th>\n",
              "      <th>Department</th>\n",
              "      <th>Salary</th>\n",
              "      <th>Age</th>\n",
              "      <th>AgeGroup</th>\n",
              "    </tr>\n",
              "  </thead>\n",
              "  <tbody>\n",
              "    <tr>\n",
              "      <th>0</th>\n",
              "      <td>Alice</td>\n",
              "      <td>HR</td>\n",
              "      <td>50000</td>\n",
              "      <td>25</td>\n",
              "      <td>Young</td>\n",
              "    </tr>\n",
              "    <tr>\n",
              "      <th>1</th>\n",
              "      <td>Bob</td>\n",
              "      <td>IT</td>\n",
              "      <td>60000</td>\n",
              "      <td>30</td>\n",
              "      <td>Senior</td>\n",
              "    </tr>\n",
              "    <tr>\n",
              "      <th>2</th>\n",
              "      <td>Charlie</td>\n",
              "      <td>IT</td>\n",
              "      <td>65000</td>\n",
              "      <td>35</td>\n",
              "      <td>Senior</td>\n",
              "    </tr>\n",
              "    <tr>\n",
              "      <th>3</th>\n",
              "      <td>David</td>\n",
              "      <td>HR</td>\n",
              "      <td>52000</td>\n",
              "      <td>45</td>\n",
              "      <td>Senior</td>\n",
              "    </tr>\n",
              "    <tr>\n",
              "      <th>4</th>\n",
              "      <td>Eva</td>\n",
              "      <td>Marketing</td>\n",
              "      <td>58000</td>\n",
              "      <td>28</td>\n",
              "      <td>Young</td>\n",
              "    </tr>\n",
              "  </tbody>\n",
              "</table>\n",
              "</div>"
            ],
            "text/plain": [
              "      Name Department  Salary  Age AgeGroup\n",
              "0    Alice         HR   50000   25    Young\n",
              "1      Bob         IT   60000   30   Senior\n",
              "2  Charlie         IT   65000   35   Senior\n",
              "3    David         HR   52000   45   Senior\n",
              "4      Eva  Marketing   58000   28    Young"
            ]
          },
          "execution_count": 14,
          "metadata": {},
          "output_type": "execute_result"
        }
      ],
      "source": [
        "# Добавим столбец с возрастной категорией\n",
        "df['AgeGroup'] = df['Age'].apply(lambda x: 'Young' if x < 30 else 'Senior')\n",
        "df"
      ]
    },
    {
      "cell_type": "markdown",
      "metadata": {},
      "source": [
        "## 6️⃣ Утилиты Pandas"
      ]
    },
    {
      "cell_type": "code",
      "execution_count": 7,
      "metadata": {},
      "outputs": [
        {
          "data": {
            "text/plain": [
              "Name          0\n",
              "Department    0\n",
              "Salary        0\n",
              "Age           0\n",
              "Bonus         2\n",
              "dtype: int64"
            ]
          },
          "execution_count": 7,
          "metadata": {},
          "output_type": "execute_result"
        }
      ],
      "source": [
        "# Проверим пропуски\n",
        "merged_df.isnull().sum()"
      ]
    }
  ],
  "metadata": {
    "kernelspec": {
      "display_name": ".venv",
      "language": "python",
      "name": "python3"
    },
    "language_info": {
      "codemirror_mode": {
        "name": "ipython",
        "version": 3
      },
      "file_extension": ".py",
      "mimetype": "text/x-python",
      "name": "python",
      "nbconvert_exporter": "python",
      "pygments_lexer": "ipython3",
      "version": "3.13.2"
    }
  },
  "nbformat": 4,
  "nbformat_minor": 2
}
